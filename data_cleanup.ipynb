{
 "metadata": {
  "language_info": {
   "codemirror_mode": {
    "name": "ipython",
    "version": 3
   },
   "file_extension": ".py",
   "mimetype": "text/x-python",
   "name": "python",
   "nbconvert_exporter": "python",
   "pygments_lexer": "ipython3",
   "version": "3.7.9-final"
  },
  "orig_nbformat": 2,
  "kernelspec": {
   "name": "python379jvsc74a57bd073f1f524b0acba47992ffd8f83b72f373e11b5b8b725181591c7f0bda5344930",
   "display_name": "Python 3.7.9 64-bit ('base2': conda)"
  }
 },
 "nbformat": 4,
 "nbformat_minor": 2,
 "cells": [
  {
   "cell_type": "code",
   "execution_count": 3,
   "metadata": {},
   "outputs": [],
   "source": [
    "import pandas as pd"
   ]
  },
  {
   "cell_type": "code",
   "execution_count": 4,
   "metadata": {},
   "outputs": [
    {
     "output_type": "stream",
     "name": "stdout",
     "text": [
      "['10 strawberries', '2 apples']\n"
     ]
    }
   ],
   "source": [
    "# Exercise 1: pulling what you need out of a recipe \\d refers to a number from 0,9\n",
    "# The following code shows what the regular expression [\\d+] does on the given string [\\d+] regular expression refers to one digit (0-9) or + character.\n",
    "import re\n",
    "recipe = \"I need 10 strawberries and 2 apples.\"\n",
    "print(re.findall(\"\\d+ [a-z]+\",recipe))"
   ]
  },
  {
   "cell_type": "code",
   "execution_count": 5,
   "metadata": {},
   "outputs": [],
   "source": [
    "#step 1 is cet up parameters\n",
    "#step 2 is that humans make decision based on human emotion\n",
    "#step 3 is rationalize the decision with fact data\n",
    "#step 4 you are delsuional if you make decisons that way"
   ]
  },
  {
   "cell_type": "code",
   "execution_count": 7,
   "metadata": {},
   "outputs": [
    {
     "output_type": "execute_result",
     "data": {
      "text/plain": [
       "    A   B\n",
       "0  12  32\n",
       "1  63   0\n",
       "2   1  23\n",
       "3  24  41\n",
       "4  12  31"
      ],
      "text/html": "<div>\n<style scoped>\n    .dataframe tbody tr th:only-of-type {\n        vertical-align: middle;\n    }\n\n    .dataframe tbody tr th {\n        vertical-align: top;\n    }\n\n    .dataframe thead th {\n        text-align: right;\n    }\n</style>\n<table border=\"1\" class=\"dataframe\">\n  <thead>\n    <tr style=\"text-align: right;\">\n      <th></th>\n      <th>A</th>\n      <th>B</th>\n    </tr>\n  </thead>\n  <tbody>\n    <tr>\n      <th>0</th>\n      <td>12</td>\n      <td>32</td>\n    </tr>\n    <tr>\n      <th>1</th>\n      <td>63</td>\n      <td>0</td>\n    </tr>\n    <tr>\n      <th>2</th>\n      <td>1</td>\n      <td>23</td>\n    </tr>\n    <tr>\n      <th>3</th>\n      <td>24</td>\n      <td>41</td>\n    </tr>\n    <tr>\n      <th>4</th>\n      <td>12</td>\n      <td>31</td>\n    </tr>\n  </tbody>\n</table>\n</div>"
     },
     "metadata": {},
     "execution_count": 7
    }
   ],
   "source": [
    "data = {\"A\":[12,63,1,24,12],\"B\":[32,0,23,41,31]}\n",
    "df = pd.DataFrame(data)\n",
    "df"
   ]
  },
  {
   "cell_type": "code",
   "execution_count": 12,
   "metadata": {},
   "outputs": [
    {
     "output_type": "stream",
     "name": "stdout",
     "text": [
      "0\n63\n"
     ]
    }
   ],
   "source": [
    "# Get the minimum of column B and maximum of column A in dataframe\n",
    "lowest = df[\"B\"].min()\n",
    "highest = df[\"A\"].max()\n",
    "print(lowest)\n",
    "print(highest)"
   ]
  },
  {
   "cell_type": "code",
   "execution_count": 15,
   "metadata": {},
   "outputs": [],
   "source": [
    "# Exercise Merge\n",
    "customers_data = {\"customer_id\":[32,34,13,12],\n",
    "                \"order_id\":[21,22,23,24]}\n",
    "\n",
    "employees_data = {\"employee_id\":[31,32,33,34],\n",
    "                \"name\":[\"Nick\",\"Lore\",\"Martin\",\"Jo\"]}\n",
    "\n",
    "customers_df = pd.DataFrame(customers_data)\n",
    "employees_df = pd.DataFrame(employees_data)\n",
    "\n"
   ]
  },
  {
   "cell_type": "code",
   "execution_count": 19,
   "metadata": {},
   "outputs": [
    {
     "output_type": "execute_result",
     "data": {
      "text/plain": [
       "   customer_id  order_id  employee_id  name\n",
       "0           32        21           32  Lore\n",
       "1           34        22           34    Jo"
      ],
      "text/html": "<div>\n<style scoped>\n    .dataframe tbody tr th:only-of-type {\n        vertical-align: middle;\n    }\n\n    .dataframe tbody tr th {\n        vertical-align: top;\n    }\n\n    .dataframe thead th {\n        text-align: right;\n    }\n</style>\n<table border=\"1\" class=\"dataframe\">\n  <thead>\n    <tr style=\"text-align: right;\">\n      <th></th>\n      <th>customer_id</th>\n      <th>order_id</th>\n      <th>employee_id</th>\n      <th>name</th>\n    </tr>\n  </thead>\n  <tbody>\n    <tr>\n      <th>0</th>\n      <td>32</td>\n      <td>21</td>\n      <td>32</td>\n      <td>Lore</td>\n    </tr>\n    <tr>\n      <th>1</th>\n      <td>34</td>\n      <td>22</td>\n      <td>34</td>\n      <td>Jo</td>\n    </tr>\n  </tbody>\n</table>\n</div>"
     },
     "metadata": {},
     "execution_count": 19
    }
   ],
   "source": [
    "new_df = pd.merge(left=customers_df, right=employees_df,\n",
    "                    left_on=\"customer_id\", right_on=\"employee_id\")\n",
    "new_df"
   ]
  },
  {
   "cell_type": "code",
   "execution_count": null,
   "metadata": {},
   "outputs": [],
   "source": []
  }
 ]
}