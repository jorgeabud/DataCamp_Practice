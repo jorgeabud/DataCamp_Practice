{
 "metadata": {
  "language_info": {
   "codemirror_mode": {
    "name": "ipython",
    "version": 3
   },
   "file_extension": ".py",
   "mimetype": "text/x-python",
   "name": "python",
   "nbconvert_exporter": "python",
   "pygments_lexer": "ipython3",
   "version": "3.7.9-final"
  },
  "orig_nbformat": 2,
  "kernelspec": {
   "name": "python379jvsc74a57bd073f1f524b0acba47992ffd8f83b72f373e11b5b8b725181591c7f0bda5344930",
   "display_name": "Python 3.7.9 64-bit ('base2': conda)"
  }
 },
 "nbformat": 4,
 "nbformat_minor": 2,
 "cells": [
  {
   "cell_type": "code",
   "execution_count": 1,
   "metadata": {},
   "outputs": [],
   "source": [
    "import pandas as pd"
   ]
  },
  {
   "cell_type": "code",
   "execution_count": 4,
   "metadata": {},
   "outputs": [
    {
     "output_type": "execute_result",
     "data": {
      "text/plain": [
       "           A\n",
       "0  time.1.15\n",
       "1  time.1.16\n",
       "2  time.2.15\n",
       "3  time.2.14"
      ],
      "text/html": "<div>\n<style scoped>\n    .dataframe tbody tr th:only-of-type {\n        vertical-align: middle;\n    }\n\n    .dataframe tbody tr th {\n        vertical-align: top;\n    }\n\n    .dataframe thead th {\n        text-align: right;\n    }\n</style>\n<table border=\"1\" class=\"dataframe\">\n  <thead>\n    <tr style=\"text-align: right;\">\n      <th></th>\n      <th>A</th>\n    </tr>\n  </thead>\n  <tbody>\n    <tr>\n      <th>0</th>\n      <td>time.1.15</td>\n    </tr>\n    <tr>\n      <th>1</th>\n      <td>time.1.16</td>\n    </tr>\n    <tr>\n      <th>2</th>\n      <td>time.2.15</td>\n    </tr>\n    <tr>\n      <th>3</th>\n      <td>time.2.14</td>\n    </tr>\n  </tbody>\n</table>\n</div>"
     },
     "metadata": {},
     "execution_count": 4
    }
   ],
   "source": [
    "data = [\"time.1.15\", \"time.1.16\", \"time.2.15\", \"time.2.14\"]\n",
    "\n",
    "df = pd.DataFrame(data, columns=[\"A\"])\n",
    "\n",
    "df"
   ]
  },
  {
   "cell_type": "code",
   "execution_count": 5,
   "metadata": {},
   "outputs": [
    {
     "output_type": "stream",
     "name": "stdout",
     "text": [
      "           A New Column\n0  time.1.15          1\n1  time.1.16          1\n2  time.2.15          2\n3  time.2.14          2\n"
     ]
    }
   ],
   "source": [
    "df[\"New Column\"] = df[\"A\"].str.split(\".\").str.get(1)\n",
    "print(df)"
   ]
  },
  {
   "cell_type": "code",
   "execution_count": null,
   "metadata": {},
   "outputs": [],
   "source": []
  }
 ]
}