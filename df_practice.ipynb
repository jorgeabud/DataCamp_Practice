{
 "metadata": {
  "language_info": {
   "codemirror_mode": {
    "name": "ipython",
    "version": 3
   },
   "file_extension": ".py",
   "mimetype": "text/x-python",
   "name": "python",
   "nbconvert_exporter": "python",
   "pygments_lexer": "ipython3",
   "version": "3.7.9-final"
  },
  "orig_nbformat": 2,
  "kernelspec": {
   "name": "python379jvsc74a57bd073f1f524b0acba47992ffd8f83b72f373e11b5b8b725181591c7f0bda5344930",
   "display_name": "Python 3.7.9 64-bit ('base2': conda)"
  }
 },
 "nbformat": 4,
 "nbformat_minor": 2,
 "cells": [
  {
   "cell_type": "code",
   "execution_count": 1,
   "metadata": {},
   "outputs": [],
   "source": [
    "import pandas as pd"
   ]
  },
  {
   "cell_type": "code",
   "execution_count": 4,
   "metadata": {},
   "outputs": [
    {
     "output_type": "execute_result",
     "data": {
      "text/plain": [
       "           A\n",
       "0  time.1.15\n",
       "1  time.1.16\n",
       "2  time.2.15\n",
       "3  time.2.14"
      ],
      "text/html": "<div>\n<style scoped>\n    .dataframe tbody tr th:only-of-type {\n        vertical-align: middle;\n    }\n\n    .dataframe tbody tr th {\n        vertical-align: top;\n    }\n\n    .dataframe thead th {\n        text-align: right;\n    }\n</style>\n<table border=\"1\" class=\"dataframe\">\n  <thead>\n    <tr style=\"text-align: right;\">\n      <th></th>\n      <th>A</th>\n    </tr>\n  </thead>\n  <tbody>\n    <tr>\n      <th>0</th>\n      <td>time.1.15</td>\n    </tr>\n    <tr>\n      <th>1</th>\n      <td>time.1.16</td>\n    </tr>\n    <tr>\n      <th>2</th>\n      <td>time.2.15</td>\n    </tr>\n    <tr>\n      <th>3</th>\n      <td>time.2.14</td>\n    </tr>\n  </tbody>\n</table>\n</div>"
     },
     "metadata": {},
     "execution_count": 4
    }
   ],
   "source": [
    "data = [\"time.1.15\", \"time.1.16\", \"time.2.15\", \"time.2.14\"]\n",
    "\n",
    "df = pd.DataFrame(data, columns=[\"A\"])\n",
    "\n",
    "df"
   ]
  },
  {
   "cell_type": "code",
   "execution_count": 5,
   "metadata": {},
   "outputs": [
    {
     "output_type": "stream",
     "name": "stdout",
     "text": [
      "           A New Column\n0  time.1.15          1\n1  time.1.16          1\n2  time.2.15          2\n3  time.2.14          2\n"
     ]
    }
   ],
   "source": [
    "# Exercise 1: String split\n",
    "\n",
    "df[\"New Column\"] = df[\"A\"].str.split(\".\").str.get(1)\n",
    "print(df)"
   ]
  },
  {
   "cell_type": "code",
   "execution_count": 6,
   "metadata": {},
   "outputs": [
    {
     "output_type": "stream",
     "name": "stdout",
     "text": [
      "           A New Column time_column\n0  time.1.15          1        time\n1  time.1.16          1        time\n2  time.2.15          2        time\n3  time.2.14          2        time\n"
     ]
    }
   ],
   "source": [
    "# Exercise 2: time column creation\n",
    "\n",
    "df[\"time_column\"] = df[\"A\"].str[:4]\n",
    "print(df)"
   ]
  },
  {
   "cell_type": "code",
   "execution_count": 19,
   "metadata": {},
   "outputs": [
    {
     "output_type": "execute_result",
     "data": {
      "text/plain": [
       "    A          B\n",
       "0  11  treatment\n",
       "1   1    control\n",
       "2  21    control\n",
       "3  13           \n",
       "4  21    control\n",
       "5  45  treatment\n",
       "6  45  treatment"
      ],
      "text/html": "<div>\n<style scoped>\n    .dataframe tbody tr th:only-of-type {\n        vertical-align: middle;\n    }\n\n    .dataframe tbody tr th {\n        vertical-align: top;\n    }\n\n    .dataframe thead th {\n        text-align: right;\n    }\n</style>\n<table border=\"1\" class=\"dataframe\">\n  <thead>\n    <tr style=\"text-align: right;\">\n      <th></th>\n      <th>A</th>\n      <th>B</th>\n    </tr>\n  </thead>\n  <tbody>\n    <tr>\n      <th>0</th>\n      <td>11</td>\n      <td>treatment</td>\n    </tr>\n    <tr>\n      <th>1</th>\n      <td>1</td>\n      <td>control</td>\n    </tr>\n    <tr>\n      <th>2</th>\n      <td>21</td>\n      <td>control</td>\n    </tr>\n    <tr>\n      <th>3</th>\n      <td>13</td>\n      <td></td>\n    </tr>\n    <tr>\n      <th>4</th>\n      <td>21</td>\n      <td>control</td>\n    </tr>\n    <tr>\n      <th>5</th>\n      <td>45</td>\n      <td>treatment</td>\n    </tr>\n    <tr>\n      <th>6</th>\n      <td>45</td>\n      <td>treatment</td>\n    </tr>\n  </tbody>\n</table>\n</div>"
     },
     "metadata": {},
     "execution_count": 19
    }
   ],
   "source": [
    "# Exercise 3: create new data frame \n",
    "\n",
    "new_data = {\"A\":[11,1,21,13,21,45,45], \"B\":[\"treatment\", \"control\", \"control\",\"\" , \"control\", \"treatment\", \"treatment\"]}\n",
    "\n",
    "df_1 = pd.DataFrame(new_data)\n",
    "df_1"
   ]
  },
  {
   "cell_type": "code",
   "execution_count": 20,
   "metadata": {},
   "outputs": [
    {
     "output_type": "stream",
     "name": "stdout",
     "text": [
      "21    2\n45    2\n13    1\n11    1\n1     1\nName: A, dtype: int64\n"
     ]
    }
   ],
   "source": [
    "# Count the values located in column A. For this use .value_counts()\n",
    "print(df_1[\"A\"].value_counts())"
   ]
  },
  {
   "cell_type": "code",
   "execution_count": 24,
   "metadata": {},
   "outputs": [
    {
     "output_type": "stream",
     "name": "stdout",
     "text": [
      "    A   B\n0  12   7\n1  25  80\n2  87  64\n3  19   3\n"
     ]
    }
   ],
   "source": [
    "# Exercise 4: Create New Df and remove duplicates using drop_duplicates()\n",
    "\n",
    "data_1 = {\"A\":[12,25,87,19,12],\"B\":[7,80,64,3,7]}\n",
    "df_2 = pd.DataFrame(data_1)\n",
    "df_2\n",
    "\n",
    "print(df_2.drop_duplicates())"
   ]
  },
  {
   "cell_type": "code",
   "execution_count": 25,
   "metadata": {},
   "outputs": [
    {
     "output_type": "stream",
     "name": "stdout",
     "text": [
      "3\n-4\n"
     ]
    }
   ],
   "source": [
    "# Exercise 5: Remembering basics of lamba function\n",
    "fun = lambda x: x - 2\n",
    "print(fun(5))\n",
    "print(fun(-2))"
   ]
  },
  {
   "cell_type": "code",
   "execution_count": 27,
   "metadata": {},
   "outputs": [
    {
     "output_type": "stream",
     "name": "stdout",
     "text": [
      "(5, 2)\n"
     ]
    }
   ],
   "source": [
    "# Original df_2 had duplicates so it has 2 columns and 5 rows\n",
    "print(df_2.shape)"
   ]
  },
  {
   "cell_type": "code",
   "execution_count": 32,
   "metadata": {},
   "outputs": [
    {
     "output_type": "execute_result",
     "data": {
      "text/plain": [
       "   class  name  test1  test2\n",
       "0      1  Alex     11     32\n",
       "1      2  Luis     12     45\n",
       "2      1  Jake     92     62\n",
       "3      2  Nick     56     34"
      ],
      "text/html": "<div>\n<style scoped>\n    .dataframe tbody tr th:only-of-type {\n        vertical-align: middle;\n    }\n\n    .dataframe tbody tr th {\n        vertical-align: top;\n    }\n\n    .dataframe thead th {\n        text-align: right;\n    }\n</style>\n<table border=\"1\" class=\"dataframe\">\n  <thead>\n    <tr style=\"text-align: right;\">\n      <th></th>\n      <th>class</th>\n      <th>name</th>\n      <th>test1</th>\n      <th>test2</th>\n    </tr>\n  </thead>\n  <tbody>\n    <tr>\n      <th>0</th>\n      <td>1</td>\n      <td>Alex</td>\n      <td>11</td>\n      <td>32</td>\n    </tr>\n    <tr>\n      <th>1</th>\n      <td>2</td>\n      <td>Luis</td>\n      <td>12</td>\n      <td>45</td>\n    </tr>\n    <tr>\n      <th>2</th>\n      <td>1</td>\n      <td>Jake</td>\n      <td>92</td>\n      <td>62</td>\n    </tr>\n    <tr>\n      <th>3</th>\n      <td>2</td>\n      <td>Nick</td>\n      <td>56</td>\n      <td>34</td>\n    </tr>\n  </tbody>\n</table>\n</div>"
     },
     "metadata": {},
     "execution_count": 32
    }
   ],
   "source": [
    "# Exercise 6: Create new df and safe as school_df\n",
    "school_data = { \"class\": [1,2,1,2], \n",
    "                \"name\": [\"Alex\", \"Luis\", \"Jake\", \"Nick\"], \n",
    "                \"test1\": [11,12,92,56], \n",
    "                \"test2\": [32,45,62,34]}\n",
    "school_df = pd.DataFrame(school_data)\n",
    "school_df"
   ]
  },
  {
   "cell_type": "code",
   "execution_count": 33,
   "metadata": {},
   "outputs": [
    {
     "output_type": "stream",
     "name": "stdout",
     "text": [
      "       test1  test2\nclass              \n1       51.5   47.0\n2       34.0   39.5\n"
     ]
    }
   ],
   "source": [
    "# This takes the mean of the grades for class1 on test1 and test2 aswell as the mean for class2.\n",
    "print(school_df.pivot_table(index= \"class\"))"
   ]
  },
  {
   "cell_type": "code",
   "execution_count": 36,
   "metadata": {},
   "outputs": [
    {
     "output_type": "stream",
     "name": "stdout",
     "text": [
      "True\n"
     ]
    }
   ],
   "source": [
    "# Exercise 7: .compile and check if x is a valid phone number\n",
    "import re\n",
    "x = \"123-456-7890\"\n",
    "print(bool(re.compile(\"\\d{3}-\\d{3}-\\d{4}\").match(x)))"
   ]
  },
  {
   "cell_type": "code",
   "execution_count": 38,
   "metadata": {},
   "outputs": [
    {
     "output_type": "stream",
     "name": "stdout",
     "text": [
      "<class 'numpy.ndarray'>\n"
     ]
    }
   ],
   "source": [
    "# Numpy array: Create list baseball\n",
    "baseball = [180, 215, 210, 210, 188, 176, 209, 200]\n",
    "\n",
    "# Import the numpy package as np\n",
    "import numpy as np\n",
    "\n",
    "# Create a numpy array from baseball: np_baseball\n",
    "np_baseball = np.array(baseball)\n",
    "\n",
    "# Print out type of np_baseball\n",
    "print(type(np_baseball))\n"
   ]
  },
  {
   "cell_type": "code",
   "execution_count": null,
   "metadata": {},
   "outputs": [],
   "source": []
  }
 ]
}